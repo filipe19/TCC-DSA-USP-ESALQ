{
 "cells": [
  {
   "cell_type": "markdown",
   "metadata": {},
   "source": [
    "\n",
    "### **| MBA-DSA USP-ESALQ 2022-2024**\n",
    "### **| Inteligência Artificial para predição de acidentes de trânsito na rodovia BR-101**\n",
    "##### **| Análise de dados de acidentes ocorridos entre 2018 e 2023**\n",
    "###### | Dataset disponível em: <https://www.gov.br/prf/pt-br/acesso-a-informacao/dados-abertos/dados-abertos-da-prf>\n",
    "\n"
   ]
  },
  {
   "cell_type": "markdown",
   "metadata": {},
   "source": [
    "### **4 - Predição (Prediction):**\n",
    "\n",
    "#### Importação do dataset filtrado com dados da BR-101 entre 2018 a 2023'''\n",
    "\n",
    "'''Machine Learning'''"
   ]
  },
  {
   "cell_type": "code",
   "execution_count": 1,
   "metadata": {},
   "outputs": [],
   "source": [
    "# Importação das Bibliotecas :\n",
    "import pandas as pd\n",
    "import numpy as np\n",
    "\n",
    "# Plotagem de Dados:\n",
    "import matplotlib.pyplot as plt\n",
    "import seaborn as sns\n",
    "\n",
    "# Aprendizado de Máquina: \n",
    "\n",
    "import sklearn\n",
    "import imblearn\n",
    "\n",
    "from sklearn.preprocessing import LabelEncoder, MinMaxScaler\n",
    "from sklearn.model_selection import train_test_split\n",
    "\n",
    "# Aprendizado de Máquina Random Forest: \n",
    "from sklearn.ensemble import RandomForestClassifier\n",
    "from sklearn.metrics import accuracy_score, precision_score, recall_score, f1_score, confusion_matrix, roc_auc_score, roc_curve, jaccard_score, classification_report\n",
    "from sklearn.tree import plot_tree\n",
    "\n",
    "import pandas as pd\n",
    "import folium\n",
    "from ipywidgets import interact\n",
    "\n",
    "# Dados Cartográficos:\n",
    "from folium.plugins import HeatMap\n",
    "import folium\n",
    "\n"
   ]
  },
  {
   "cell_type": "code",
   "execution_count": 2,
   "metadata": {},
   "outputs": [
    {
     "name": "stdout",
     "output_type": "stream",
     "text": [
      "Shape: O DataFrame possui 288010 linhas e 26 colunas.\n",
      "\n"
     ]
    }
   ],
   "source": [
    "#Importação do dataset filtrado com dados da BR-101 entre 2018 a 2023\n",
    "df_copia = pd.read_csv('C:/Users/filipe/anaconda3/envs/tccdsa1/projetof/util/001PreProcessamento/002Filtragem_e_analise_exploratória_de_dados/df_copia.csv', sep=',', encoding='utf-8', low_memory=False)\n",
    "#df_filtrado101 = pd.read_csv('C:/Users/filipe/anaconda3/envs/tccdsa1/ProjetoF2/df_filtrado101.csv', sep=',', encoding='utf-8', low_memory=False)\n",
    "\n",
    "# Imprimir a quantidade de linhas e colunas\n",
    "print(f\"Shape: O DataFrame possui {df_copia.shape[0]} linhas e {df_copia.shape[1]} colunas.\\n\")\n",
    "\n",
    "# Exibindo informações gerais sobre o dataset\n",
    "#print(df_copia.info())\n",
    "\n",
    "# Visualizando as primeiras linhas do dataset\n",
    "#print(df_copia.head())\n"
   ]
  },
  {
   "cell_type": "code",
   "execution_count": 3,
   "metadata": {},
   "outputs": [
    {
     "data": {
      "application/vnd.jupyter.widget-view+json": {
       "model_id": "fbeb13f18f1a46f485b7661d93c03682",
       "version_major": 2,
       "version_minor": 0
      },
      "text/plain": [
       "interactive(children=(Dropdown(description='ano', options=(2018, 2019, 2020, 2021, 2022, 2023), value=2018), D…"
      ]
     },
     "metadata": {},
     "output_type": "display_data"
    },
    {
     "data": {
      "text/plain": [
       "<function __main__.criar_mapa(ano, mes, tipo_acidente)>"
      ]
     },
     "execution_count": 3,
     "metadata": {},
     "output_type": "execute_result"
    }
   ],
   "source": [
    "# Criando uma cópia do dataframe df_copia\n",
    "df_mapa = df_copia.copy()\n",
    "\n",
    "# Substituir vírgulas por pontos e converter para float\n",
    "df_mapa['latitude'] = df_mapa['latitude'].str.replace(',', '.').astype(float)\n",
    "df_mapa['longitude'] = df_mapa['longitude'].str.replace(',', '.').astype(float)\n",
    "\n",
    "# Converter a coluna 'data_inversa' para o tipo datetime\n",
    "df_mapa['data_inversa'] = pd.to_datetime(df_mapa['data_inversa'])\n",
    "\n",
    "# Criar uma nova coluna 'ano' e 'mes' que representa o ano e o mês do acidente\n",
    "df_mapa['ano'] = df_mapa['data_inversa'].dt.year\n",
    "df_mapa['mes'] = df_mapa['data_inversa'].dt.month\n",
    "\n",
    "# Função para criar o mapa\n",
    "def criar_mapa(ano, mes, tipo_acidente):\n",
    "    # Filtrar os dados\n",
    "    df_filtrado = df_mapa[(df_mapa['ano'] == ano) & (df_mapa['mes'] == mes) & (df_mapa['tipo_acidente'] == tipo_acidente)]\n",
    "    \n",
    "    # Criar o mapa\n",
    "    mapa = folium.Map(location=[-14.2350, -51.9253], zoom_start=4)\n",
    "    \n",
    "    # Adicionar os pontos ao mapa\n",
    "    for _, row in df_filtrado.iterrows():\n",
    "        folium.Marker([row['latitude'], row['longitude']], popup=row['tipo_acidente']).add_to(mapa)\n",
    "    \n",
    "    # Mostrar o mapa\n",
    "    display(mapa)\n",
    "\n",
    "# Criar os widgets de filtro\n",
    "interact(criar_mapa, \n",
    "         ano=list(df_mapa['ano'].unique()), \n",
    "         mes=list(df_mapa['mes'].unique()), \n",
    "         tipo_acidente=list(df_mapa['tipo_acidente'].unique()))\n"
   ]
  },
  {
   "cell_type": "code",
   "execution_count": 4,
   "metadata": {},
   "outputs": [
    {
     "data": {
      "application/vnd.jupyter.widget-view+json": {
       "model_id": "cb3a1a281b894f2a89b6b55a7a1f4145",
       "version_major": 2,
       "version_minor": 0
      },
      "text/plain": [
       "interactive(children=(Dropdown(description='ano', options=(2018, 2019, 2020, 2021, 2022, 2023), value=2018), D…"
      ]
     },
     "metadata": {},
     "output_type": "display_data"
    },
    {
     "data": {
      "text/plain": [
       "<function __main__.criar_mapa(ano, mes, tipo_acidente)>"
      ]
     },
     "execution_count": 4,
     "metadata": {},
     "output_type": "execute_result"
    }
   ],
   "source": [
    "import pandas as pd\n",
    "import folium\n",
    "from ipywidgets import interact\n",
    "\n",
    "# Criando uma cópia do dataframe df_copia\n",
    "df_mapa = df_copia.copy()\n",
    "\n",
    "# Substituir vírgulas por pontos e converter para float\n",
    "df_mapa['latitude'] = df_mapa['latitude'].str.replace(',', '.').astype(float)\n",
    "df_mapa['longitude'] = df_mapa['longitude'].str.replace(',', '.').astype(float)\n",
    "\n",
    "# Converter a coluna 'data_inversa' para o tipo datetime\n",
    "df_mapa['data_inversa'] = pd.to_datetime(df_mapa['data_inversa'])\n",
    "\n",
    "# Criar uma nova coluna 'ano' e 'mes' que representa o ano e o mês do acidente\n",
    "df_mapa['ano'] = df_mapa['data_inversa'].dt.year\n",
    "df_mapa['mes'] = df_mapa['data_inversa'].dt.month\n",
    "\n",
    "# Função para criar o mapa\n",
    "def criar_mapa(ano, mes, tipo_acidente):\n",
    "    # Filtrar os dados\n",
    "    df_filtrado = df_mapa[(df_mapa['ano'] == ano) & (df_mapa['mes'] == mes) & (df_mapa['tipo_acidente'] == tipo_acidente)]\n",
    "    \n",
    "    # Criar o mapa\n",
    "    mapa = folium.Map(location=[-14.2350, -51.9253], zoom_start=4)\n",
    "    \n",
    "    # Adicionar os pontos ao mapa\n",
    "    for _, row in df_filtrado.iterrows():\n",
    "        folium.Marker([row['latitude'], row['longitude']], popup=row['tipo_acidente']).add_to(mapa)\n",
    "    \n",
    "    # Mostrar o mapa\n",
    "    display(mapa)\n",
    "\n",
    "# Criar os widgets de filtro\n",
    "interact(criar_mapa, \n",
    "         ano=list(df_mapa['ano'].unique()), \n",
    "         mes=list(df_mapa['mes'].unique()), \n",
    "         tipo_acidente=list(df_mapa['tipo_acidente'].unique()))\n"
   ]
  },
  {
   "cell_type": "code",
   "execution_count": 5,
   "metadata": {},
   "outputs": [
    {
     "ename": "ValueError",
     "evalue": "could not convert string to float: '-26,25144272'",
     "output_type": "error",
     "traceback": [
      "\u001b[1;31m---------------------------------------------------------------------------\u001b[0m",
      "\u001b[1;31mValueError\u001b[0m                                Traceback (most recent call last)",
      "Cell \u001b[1;32mIn[5], line 5\u001b[0m\n\u001b[0;32m      2\u001b[0m \u001b[38;5;28;01mfrom\u001b[39;00m \u001b[38;5;21;01mfolium\u001b[39;00m\u001b[38;5;21;01m.\u001b[39;00m\u001b[38;5;21;01mplugins\u001b[39;00m \u001b[38;5;28;01mimport\u001b[39;00m HeatMap\n\u001b[0;32m      4\u001b[0m \u001b[38;5;66;03m# Certifique-se de que as colunas 'latitude' e 'longitude' são numéricas\u001b[39;00m\n\u001b[1;32m----> 5\u001b[0m df_copia[\u001b[38;5;124m'\u001b[39m\u001b[38;5;124mlatitude\u001b[39m\u001b[38;5;124m'\u001b[39m] \u001b[38;5;241m=\u001b[39m df_copia[\u001b[38;5;124m'\u001b[39m\u001b[38;5;124mlatitude\u001b[39m\u001b[38;5;124m'\u001b[39m]\u001b[38;5;241m.\u001b[39mreplace(\u001b[38;5;124m'\u001b[39m\u001b[38;5;124m,\u001b[39m\u001b[38;5;124m'\u001b[39m, \u001b[38;5;124m'\u001b[39m\u001b[38;5;124m.\u001b[39m\u001b[38;5;124m'\u001b[39m)\u001b[38;5;241m.\u001b[39mastype(\u001b[38;5;28mfloat\u001b[39m)\n\u001b[0;32m      6\u001b[0m df_copia[\u001b[38;5;124m'\u001b[39m\u001b[38;5;124mlongitude\u001b[39m\u001b[38;5;124m'\u001b[39m] \u001b[38;5;241m=\u001b[39m df_copia[\u001b[38;5;124m'\u001b[39m\u001b[38;5;124mlongitude\u001b[39m\u001b[38;5;124m'\u001b[39m]\u001b[38;5;241m.\u001b[39mreplace(\u001b[38;5;124m'\u001b[39m\u001b[38;5;124m,\u001b[39m\u001b[38;5;124m'\u001b[39m, \u001b[38;5;124m'\u001b[39m\u001b[38;5;124m.\u001b[39m\u001b[38;5;124m'\u001b[39m)\u001b[38;5;241m.\u001b[39mastype(\u001b[38;5;28mfloat\u001b[39m)\n\u001b[0;32m      8\u001b[0m \u001b[38;5;66;03m# Criando o mapa\u001b[39;00m\n",
      "File \u001b[1;32mc:\\Users\\filipe\\anaconda3\\envs\\tccdsa1\\Lib\\site-packages\\pandas\\core\\generic.py:6324\u001b[0m, in \u001b[0;36mNDFrame.astype\u001b[1;34m(self, dtype, copy, errors)\u001b[0m\n\u001b[0;32m   6317\u001b[0m     results \u001b[38;5;241m=\u001b[39m [\n\u001b[0;32m   6318\u001b[0m         \u001b[38;5;28mself\u001b[39m\u001b[38;5;241m.\u001b[39miloc[:, i]\u001b[38;5;241m.\u001b[39mastype(dtype, copy\u001b[38;5;241m=\u001b[39mcopy)\n\u001b[0;32m   6319\u001b[0m         \u001b[38;5;28;01mfor\u001b[39;00m i \u001b[38;5;129;01min\u001b[39;00m \u001b[38;5;28mrange\u001b[39m(\u001b[38;5;28mlen\u001b[39m(\u001b[38;5;28mself\u001b[39m\u001b[38;5;241m.\u001b[39mcolumns))\n\u001b[0;32m   6320\u001b[0m     ]\n\u001b[0;32m   6322\u001b[0m \u001b[38;5;28;01melse\u001b[39;00m:\n\u001b[0;32m   6323\u001b[0m     \u001b[38;5;66;03m# else, only a single dtype is given\u001b[39;00m\n\u001b[1;32m-> 6324\u001b[0m     new_data \u001b[38;5;241m=\u001b[39m \u001b[38;5;28mself\u001b[39m\u001b[38;5;241m.\u001b[39m_mgr\u001b[38;5;241m.\u001b[39mastype(dtype\u001b[38;5;241m=\u001b[39mdtype, copy\u001b[38;5;241m=\u001b[39mcopy, errors\u001b[38;5;241m=\u001b[39merrors)\n\u001b[0;32m   6325\u001b[0m     \u001b[38;5;28;01mreturn\u001b[39;00m \u001b[38;5;28mself\u001b[39m\u001b[38;5;241m.\u001b[39m_constructor(new_data)\u001b[38;5;241m.\u001b[39m__finalize__(\u001b[38;5;28mself\u001b[39m, method\u001b[38;5;241m=\u001b[39m\u001b[38;5;124m\"\u001b[39m\u001b[38;5;124mastype\u001b[39m\u001b[38;5;124m\"\u001b[39m)\n\u001b[0;32m   6327\u001b[0m \u001b[38;5;66;03m# GH 33113: handle empty frame or series\u001b[39;00m\n",
      "File \u001b[1;32mc:\\Users\\filipe\\anaconda3\\envs\\tccdsa1\\Lib\\site-packages\\pandas\\core\\internals\\managers.py:451\u001b[0m, in \u001b[0;36mBaseBlockManager.astype\u001b[1;34m(self, dtype, copy, errors)\u001b[0m\n\u001b[0;32m    448\u001b[0m \u001b[38;5;28;01melif\u001b[39;00m using_copy_on_write():\n\u001b[0;32m    449\u001b[0m     copy \u001b[38;5;241m=\u001b[39m \u001b[38;5;28;01mFalse\u001b[39;00m\n\u001b[1;32m--> 451\u001b[0m \u001b[38;5;28;01mreturn\u001b[39;00m \u001b[38;5;28mself\u001b[39m\u001b[38;5;241m.\u001b[39mapply(\n\u001b[0;32m    452\u001b[0m     \u001b[38;5;124m\"\u001b[39m\u001b[38;5;124mastype\u001b[39m\u001b[38;5;124m\"\u001b[39m,\n\u001b[0;32m    453\u001b[0m     dtype\u001b[38;5;241m=\u001b[39mdtype,\n\u001b[0;32m    454\u001b[0m     copy\u001b[38;5;241m=\u001b[39mcopy,\n\u001b[0;32m    455\u001b[0m     errors\u001b[38;5;241m=\u001b[39merrors,\n\u001b[0;32m    456\u001b[0m     using_cow\u001b[38;5;241m=\u001b[39musing_copy_on_write(),\n\u001b[0;32m    457\u001b[0m )\n",
      "File \u001b[1;32mc:\\Users\\filipe\\anaconda3\\envs\\tccdsa1\\Lib\\site-packages\\pandas\\core\\internals\\managers.py:352\u001b[0m, in \u001b[0;36mBaseBlockManager.apply\u001b[1;34m(self, f, align_keys, **kwargs)\u001b[0m\n\u001b[0;32m    350\u001b[0m         applied \u001b[38;5;241m=\u001b[39m b\u001b[38;5;241m.\u001b[39mapply(f, \u001b[38;5;241m*\u001b[39m\u001b[38;5;241m*\u001b[39mkwargs)\n\u001b[0;32m    351\u001b[0m     \u001b[38;5;28;01melse\u001b[39;00m:\n\u001b[1;32m--> 352\u001b[0m         applied \u001b[38;5;241m=\u001b[39m \u001b[38;5;28mgetattr\u001b[39m(b, f)(\u001b[38;5;241m*\u001b[39m\u001b[38;5;241m*\u001b[39mkwargs)\n\u001b[0;32m    353\u001b[0m     result_blocks \u001b[38;5;241m=\u001b[39m extend_blocks(applied, result_blocks)\n\u001b[0;32m    355\u001b[0m out \u001b[38;5;241m=\u001b[39m \u001b[38;5;28mtype\u001b[39m(\u001b[38;5;28mself\u001b[39m)\u001b[38;5;241m.\u001b[39mfrom_blocks(result_blocks, \u001b[38;5;28mself\u001b[39m\u001b[38;5;241m.\u001b[39maxes)\n",
      "File \u001b[1;32mc:\\Users\\filipe\\anaconda3\\envs\\tccdsa1\\Lib\\site-packages\\pandas\\core\\internals\\blocks.py:511\u001b[0m, in \u001b[0;36mBlock.astype\u001b[1;34m(self, dtype, copy, errors, using_cow)\u001b[0m\n\u001b[0;32m    491\u001b[0m \u001b[38;5;250m\u001b[39m\u001b[38;5;124;03m\"\"\"\u001b[39;00m\n\u001b[0;32m    492\u001b[0m \u001b[38;5;124;03mCoerce to the new dtype.\u001b[39;00m\n\u001b[0;32m    493\u001b[0m \n\u001b[1;32m   (...)\u001b[0m\n\u001b[0;32m    507\u001b[0m \u001b[38;5;124;03mBlock\u001b[39;00m\n\u001b[0;32m    508\u001b[0m \u001b[38;5;124;03m\"\"\"\u001b[39;00m\n\u001b[0;32m    509\u001b[0m values \u001b[38;5;241m=\u001b[39m \u001b[38;5;28mself\u001b[39m\u001b[38;5;241m.\u001b[39mvalues\n\u001b[1;32m--> 511\u001b[0m new_values \u001b[38;5;241m=\u001b[39m astype_array_safe(values, dtype, copy\u001b[38;5;241m=\u001b[39mcopy, errors\u001b[38;5;241m=\u001b[39merrors)\n\u001b[0;32m    513\u001b[0m new_values \u001b[38;5;241m=\u001b[39m maybe_coerce_values(new_values)\n\u001b[0;32m    515\u001b[0m refs \u001b[38;5;241m=\u001b[39m \u001b[38;5;28;01mNone\u001b[39;00m\n",
      "File \u001b[1;32mc:\\Users\\filipe\\anaconda3\\envs\\tccdsa1\\Lib\\site-packages\\pandas\\core\\dtypes\\astype.py:242\u001b[0m, in \u001b[0;36mastype_array_safe\u001b[1;34m(values, dtype, copy, errors)\u001b[0m\n\u001b[0;32m    239\u001b[0m     dtype \u001b[38;5;241m=\u001b[39m dtype\u001b[38;5;241m.\u001b[39mnumpy_dtype\n\u001b[0;32m    241\u001b[0m \u001b[38;5;28;01mtry\u001b[39;00m:\n\u001b[1;32m--> 242\u001b[0m     new_values \u001b[38;5;241m=\u001b[39m astype_array(values, dtype, copy\u001b[38;5;241m=\u001b[39mcopy)\n\u001b[0;32m    243\u001b[0m \u001b[38;5;28;01mexcept\u001b[39;00m (\u001b[38;5;167;01mValueError\u001b[39;00m, \u001b[38;5;167;01mTypeError\u001b[39;00m):\n\u001b[0;32m    244\u001b[0m     \u001b[38;5;66;03m# e.g. _astype_nansafe can fail on object-dtype of strings\u001b[39;00m\n\u001b[0;32m    245\u001b[0m     \u001b[38;5;66;03m#  trying to convert to float\u001b[39;00m\n\u001b[0;32m    246\u001b[0m     \u001b[38;5;28;01mif\u001b[39;00m errors \u001b[38;5;241m==\u001b[39m \u001b[38;5;124m\"\u001b[39m\u001b[38;5;124mignore\u001b[39m\u001b[38;5;124m\"\u001b[39m:\n",
      "File \u001b[1;32mc:\\Users\\filipe\\anaconda3\\envs\\tccdsa1\\Lib\\site-packages\\pandas\\core\\dtypes\\astype.py:187\u001b[0m, in \u001b[0;36mastype_array\u001b[1;34m(values, dtype, copy)\u001b[0m\n\u001b[0;32m    184\u001b[0m     values \u001b[38;5;241m=\u001b[39m values\u001b[38;5;241m.\u001b[39mastype(dtype, copy\u001b[38;5;241m=\u001b[39mcopy)\n\u001b[0;32m    186\u001b[0m \u001b[38;5;28;01melse\u001b[39;00m:\n\u001b[1;32m--> 187\u001b[0m     values \u001b[38;5;241m=\u001b[39m _astype_nansafe(values, dtype, copy\u001b[38;5;241m=\u001b[39mcopy)\n\u001b[0;32m    189\u001b[0m \u001b[38;5;66;03m# in pandas we don't store numpy str dtypes, so convert to object\u001b[39;00m\n\u001b[0;32m    190\u001b[0m \u001b[38;5;28;01mif\u001b[39;00m \u001b[38;5;28misinstance\u001b[39m(dtype, np\u001b[38;5;241m.\u001b[39mdtype) \u001b[38;5;129;01mand\u001b[39;00m \u001b[38;5;28missubclass\u001b[39m(values\u001b[38;5;241m.\u001b[39mdtype\u001b[38;5;241m.\u001b[39mtype, \u001b[38;5;28mstr\u001b[39m):\n",
      "File \u001b[1;32mc:\\Users\\filipe\\anaconda3\\envs\\tccdsa1\\Lib\\site-packages\\pandas\\core\\dtypes\\astype.py:138\u001b[0m, in \u001b[0;36m_astype_nansafe\u001b[1;34m(arr, dtype, copy, skipna)\u001b[0m\n\u001b[0;32m    134\u001b[0m     \u001b[38;5;28;01mraise\u001b[39;00m \u001b[38;5;167;01mValueError\u001b[39;00m(msg)\n\u001b[0;32m    136\u001b[0m \u001b[38;5;28;01mif\u001b[39;00m copy \u001b[38;5;129;01mor\u001b[39;00m is_object_dtype(arr\u001b[38;5;241m.\u001b[39mdtype) \u001b[38;5;129;01mor\u001b[39;00m is_object_dtype(dtype):\n\u001b[0;32m    137\u001b[0m     \u001b[38;5;66;03m# Explicit copy, or required since NumPy can't view from / to object.\u001b[39;00m\n\u001b[1;32m--> 138\u001b[0m     \u001b[38;5;28;01mreturn\u001b[39;00m arr\u001b[38;5;241m.\u001b[39mastype(dtype, copy\u001b[38;5;241m=\u001b[39m\u001b[38;5;28;01mTrue\u001b[39;00m)\n\u001b[0;32m    140\u001b[0m \u001b[38;5;28;01mreturn\u001b[39;00m arr\u001b[38;5;241m.\u001b[39mastype(dtype, copy\u001b[38;5;241m=\u001b[39mcopy)\n",
      "\u001b[1;31mValueError\u001b[0m: could not convert string to float: '-26,25144272'"
     ]
    }
   ],
   "source": [
    "import folium\n",
    "from folium.plugins import HeatMap\n",
    "\n",
    "# Certifique-se de que as colunas 'latitude' e 'longitude' são numéricas\n",
    "df_copia['latitude'] = df_copia['latitude'].replace(',', '.').astype(float)\n",
    "df_copia['longitude'] = df_copia['longitude'].replace(',', '.').astype(float)\n",
    "\n",
    "# Criando o mapa\n",
    "mapa = folium.Map(\n",
    "    location=[-15.77972, -47.92972],\n",
    "    zoom_start=10\n",
    ")\n",
    "\n",
    "# Adicionando o mapa de calor\n",
    "HeatMap(list(zip(df_copia['latitude'], df_copia['longitude']))).add_to(mapa)\n",
    "\n",
    "# Exibindo o mapa\n",
    "mapa\n"
   ]
  }
 ],
 "metadata": {
  "kernelspec": {
   "display_name": "tccdsa1",
   "language": "python",
   "name": "python3"
  },
  "language_info": {
   "codemirror_mode": {
    "name": "ipython",
    "version": 3
   },
   "file_extension": ".py",
   "mimetype": "text/x-python",
   "name": "python",
   "nbconvert_exporter": "python",
   "pygments_lexer": "ipython3",
   "version": "3.11.4"
  }
 },
 "nbformat": 4,
 "nbformat_minor": 2
}
